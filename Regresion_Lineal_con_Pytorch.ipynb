{
  "nbformat": 4,
  "nbformat_minor": 0,
  "metadata": {
    "colab": {
      "name": "Regresion Lineal con Pytorch",
      "provenance": [],
      "collapsed_sections": [],
      "authorship_tag": "ABX9TyN6InPihvZwVHRbgch2F/yN",
      "include_colab_link": true
    },
    "kernelspec": {
      "name": "python3",
      "display_name": "Python 3"
    }
  },
  "cells": [
    {
      "cell_type": "markdown",
      "metadata": {
        "id": "view-in-github",
        "colab_type": "text"
      },
      "source": [
        "<a href=\"https://colab.research.google.com/github/Nyota-Lab/torch/blob/Regresion-lineal/Regresion_Lineal_con_Pytorch.ipynb\" target=\"_parent\"><img src=\"https://colab.research.google.com/assets/colab-badge.svg\" alt=\"Open In Colab\"/></a>"
      ]
    },
    {
      "cell_type": "markdown",
      "metadata": {
        "id": "uROZNkdMSJHH",
        "colab_type": "text"
      },
      "source": [
        "#Regresion Lineal\n",
        "* Importamos nuestras librerias\n",
        "* Importamos torch.nn que es un modulo específico de Pytorch que nos ayuda a crear redes neuronales\n",
        "* Importamos torch.optim para mejorar la optimizacion de nuestro modelo y calcular los gradientes\n"
      ]
    },
    {
      "cell_type": "code",
      "metadata": {
        "colab_type": "code",
        "id": "BQnCzkluSs_5",
        "colab": {}
      },
      "source": [
        "import torch\n",
        "import numpy as np\n",
        "import pandas as pd\n",
        "import matplotlib.pyplot as plt\n",
        "import torch.nn as nn\n",
        "import torch.optim as optim"
      ],
      "execution_count": 0,
      "outputs": []
    },
    {
      "cell_type": "markdown",
      "metadata": {
        "id": "rPiquQkqS_DJ",
        "colab_type": "text"
      },
      "source": [
        "* Para este primer ejemplo vamos a crear arreglos para simular un dataframe de venta de autos según su precio"
      ]
    },
    {
      "cell_type": "code",
      "metadata": {
        "id": "ChYMb0LcSwXO",
        "colab_type": "code",
        "colab": {
          "base_uri": "https://localhost:8080/",
          "height": 284
        },
        "outputId": "ec248947-533e-4a0f-fded-40d89d8e640a"
      },
      "source": [
        "car_prices = [5, 6, 7, 8, 9, 10]\n",
        "units_sold = [8.5, 8, 7.5, 7, 6.5, 6]\n",
        "\n",
        "plt.scatter(car_prices, units_sold)"
      ],
      "execution_count": 3,
      "outputs": [
        {
          "output_type": "execute_result",
          "data": {
            "text/plain": [
              "<matplotlib.collections.PathCollection at 0x7f1d8bf247f0>"
            ]
          },
          "metadata": {
            "tags": []
          },
          "execution_count": 3
        },
        {
          "output_type": "display_data",
          "data": {
            "image/png": "[encoded data removed]",
            "text/plain": [
              "<Figure size 432x288 with 1 Axes>"
            ]
          },
          "metadata": {
            "tags": []
          }
        }
      ]
    },
    {
      "cell_type": "markdown",
      "metadata": {
        "id": "tsy930sPT5iF",
        "colab_type": "text"
      },
      "source": [
        "* una vez tenemos este arreglo de pyton vamos a transformarlo en un array de numpy"
      ]
    },
    {
      "cell_type": "code",
      "metadata": {
        "id": "_1z0dgQISwUO",
        "colab_type": "code",
        "colab": {
          "base_uri": "https://localhost:8080/",
          "height": 240
        },
        "outputId": "9087d527-c82f-4c1a-950f-a2901d4ee149"
      },
      "source": [
        "prices_array = np.array(car_prices).reshape(-1,1)\n",
        "units_array = np.array(units_sold).reshape(-1,1)\n",
        "print(prices_array)\n",
        "print(units_array)"
      ],
      "execution_count": 4,
      "outputs": [
        {
          "output_type": "stream",
          "text": [
            "[[ 5]\n",
            " [ 6]\n",
            " [ 7]\n",
            " [ 8]\n",
            " [ 9]\n",
            " [10]]\n",
            "[[8.5]\n",
            " [8. ]\n",
            " [7.5]\n",
            " [7. ]\n",
            " [6.5]\n",
            " [6. ]]\n"
          ],
          "name": "stdout"
        }
      ]
    },
    {
      "cell_type": "markdown",
      "metadata": {
        "id": "g1nsHg4eUt_q",
        "colab_type": "text"
      },
      "source": [
        "* Ya que lo tenemos en formato numpy vamos a transformarlo a tensor, con la diferencia que a los precios como van a ser nuestra variable explicativa le vamos a activar los gradientes para la optimizacion y para las unidades no lo vamos a hacer"
      ]
    },
    {
      "cell_type": "code",
      "metadata": {
        "id": "w0SxaAstSwRb",
        "colab_type": "code",
        "colab": {
          "base_uri": "https://localhost:8080/",
          "height": 240
        },
        "outputId": "f02b2175-810c-462b-81b5-cf450ff3fbff"
      },
      "source": [
        "prices = torch.from_numpy(prices_array).float().requires_grad_(True)\n",
        "units = torch.from_numpy(units_array).float()\n",
        "\n",
        "print(prices, prices.shape)\n",
        "print(units, units.shape)"
      ],
      "execution_count": 5,
      "outputs": [
        {
          "output_type": "stream",
          "text": [
            "tensor([[ 5.],\n",
            "        [ 6.],\n",
            "        [ 7.],\n",
            "        [ 8.],\n",
            "        [ 9.],\n",
            "        [10.]], requires_grad=True) torch.Size([6, 1])\n",
            "tensor([[8.5000],\n",
            "        [8.0000],\n",
            "        [7.5000],\n",
            "        [7.0000],\n",
            "        [6.5000],\n",
            "        [6.0000]]) torch.Size([6, 1])\n"
          ],
          "name": "stdout"
        }
      ]
    },
    {
      "cell_type": "markdown",
      "metadata": {
        "id": "FA1ny5rJXSH6",
        "colab_type": "text"
      },
      "source": [
        "* Procedemos con la creacion del modelo lineal el cual va a recibir el parámetro de la dimension de la entrada y de la salida\n",
        "* Definimos la función de pérdida que para este caso es MSELoss es decir la media del cuadrado de los errores\n",
        "* Definimos la función de optimizacíon con SGD el cual toma un batch de los datos, como parámetros le pasamos los pesos que tiene cada uno de nustros elementos en el modelo y agregamos un learning rate, es decir cuanto se va a mover el gradiente con cada iteracion\n",
        "* Con estos parámetros establecidos creamos nuestro trainig loop\n",
        "  * Vamos a crear un arreglo vacio llamado losses para poder graficar mas adelante y se va a llenar con los resultados que arroje el training loop\n",
        "  * Establecemos un número de iteraciones para el loop\n",
        "    * Creamos el training loop que va a tener las iteracciones y por cada una de ellas vamos a realizar una predicción con los precios como parámetros\n",
        "    * Despues tenemos que calcular el loss en la cual usamos la función que ya creamos y le pasamos la prediccion que ya realizamos y el target, para que pueda calcular la diferencia entre lo que calculamos y el valor objetivo y lo vamos agregando a nuestro arreglo vacio\n",
        "    * Despues es necesario reiniciar los gradientes porque son acumulativos y pueden distorcionar el modelo\n",
        "    * De igual manera reiniciamos la funcion de loss\n",
        "    * Y le pedimos que optimicer se mueva un 'paso' de acuerdo a la función de optimizacion\n",
        "    * Para terminar graficamos las iteraciones junto con los losses"
      ]
    },
    {
      "cell_type": "code",
      "metadata": {
        "id": "DzJgyPFWSwOk",
        "colab_type": "code",
        "colab": {
          "base_uri": "https://localhost:8080/",
          "height": 302
        },
        "outputId": "24550aff-d506-44fa-a88b-a685140e71a5"
      },
      "source": [
        "model = nn.Linear(1,1)\n",
        "loss_function = nn.MSELoss()\n",
        "optimizer = optim.SGD(model.parameters(), lr=0.015)\n",
        "\n",
        "losses = []\n",
        "iterations = 2000\n",
        "\n",
        "for i in range(iterations):\n",
        "  #forward pass\n",
        "  pred = model(prices) \n",
        "  loss = loss_function(pred, units)\n",
        "  losses.append(loss.data)\n",
        "\n",
        "  #backward\n",
        "  optimizer.zero_grad()\n",
        "  loss.backward()\n",
        "  optimizer.step()\n",
        "\n",
        "print(loss)\n",
        "plt.plot(range(iterations), losses)"
      ],
      "execution_count": 15,
      "outputs": [
        {
          "output_type": "stream",
          "text": [
            "tensor(0.0181, grad_fn=<MseLossBackward>)\n"
          ],
          "name": "stdout"
        },
        {
          "output_type": "execute_result",
          "data": {
            "text/plain": [
              "[<matplotlib.lines.Line2D at 0x7f1d87b197f0>]"
            ]
          },
          "metadata": {
            "tags": []
          },
          "execution_count": 15
        },
        {
          "output_type": "display_data",
          "data": {
            "image/png": "[encoded data removed]",
            "text/plain": [
              "<Figure size 432x288 with 1 Axes>"
            ]
          },
          "metadata": {
            "tags": []
          }
        }
      ]
    },
    {
      "cell_type": "markdown",
      "metadata": {
        "id": "pGFXCU-fcu28",
        "colab_type": "text"
      },
      "source": [
        "* Una vez ya está entrenado nuestro modelo vamos a realizar una prediccion"
      ]
    },
    {
      "cell_type": "code",
      "metadata": {
        "id": "lNO0In_jSwMS",
        "colab_type": "code",
        "colab": {
          "base_uri": "https://localhost:8080/",
          "height": 36
        },
        "outputId": "375f7261-89ce-4e19-a7e3-c10979d85f73"
      },
      "source": [
        "X = torch.Tensor([[6.0]])\n",
        "X = model(X)\n",
        "X"
      ],
      "execution_count": 25,
      "outputs": [
        {
          "output_type": "execute_result",
          "data": {
            "text/plain": [
              "tensor([[7.8554]], grad_fn=<AddmmBackward>)"
            ]
          },
          "metadata": {
            "tags": []
          },
          "execution_count": 25
        }
      ]
    }
  ]
}