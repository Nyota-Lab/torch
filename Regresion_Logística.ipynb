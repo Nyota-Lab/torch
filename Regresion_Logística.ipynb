{
  "nbformat": 4,
  "nbformat_minor": 0,
  "metadata": {
    "colab": {
      "name": "Regresion Logística",
      "provenance": [],
      "private_outputs": true,
      "authorship_tag": "ABX9TyMjaWBngJkplFzDRhuHD6I2",
      "include_colab_link": true
    },
    "kernelspec": {
      "name": "python3",
      "display_name": "Python 3"
    }
  },
  "cells": [
    {
      "cell_type": "markdown",
      "metadata": {
        "id": "view-in-github",
        "colab_type": "text"
      },
      "source": [
        "<a href=\"https://colab.research.google.com/github/Nyota-Lab/torch/blob/Regresion-Logistica/Regresion_Log%C3%ADstica.ipynb\" target=\"_parent\"><img src=\"https://colab.research.google.com/assets/colab-badge.svg\" alt=\"Open In Colab\"/></a>"
      ]
    },
    {
      "cell_type": "markdown",
      "metadata": {
        "id": "UgXoMmt2iA4Q",
        "colab_type": "text"
      },
      "source": [
        "#Regresión Logística\n",
        "* Este tipo de regresión es usado para problemas de clasificación\n",
        "* Nuevamente cargamos nuestras librerías"
      ]
    },
    {
      "cell_type": "code",
      "metadata": {
        "id": "lWtroyjyh9Z6",
        "colab_type": "code",
        "colab": {}
      },
      "source": [
        "import torch\n",
        "import numpy as np\n",
        "import pandas as pd\n",
        "import torch.nn as nn\n",
        "import torch.optim as optim\n",
        "import matplotlib.pyplot as plt"
      ],
      "execution_count": 0,
      "outputs": []
    },
    {
      "cell_type": "markdown",
      "metadata": {
        "id": "dtqjBuEYitqN",
        "colab_type": "text"
      },
      "source": [
        "* Para este tipo de regresion vamos a generar nuevamente un set de datos en este caso de pares"
      ]
    },
    {
      "cell_type": "code",
      "metadata": {
        "id": "xlnEAD_iitPF",
        "colab_type": "code",
        "colab": {}
      },
      "source": [
        "n = 100\n",
        "h = n//2\n",
        "dimen = 2\n",
        "\n",
        "data = np.random.randn(n, dimen)*3\n",
        "data"
      ],
      "execution_count": 0,
      "outputs": []
    },
    {
      "cell_type": "markdown",
      "metadata": {
        "id": "l6HTCoheoZ8j",
        "colab_type": "text"
      },
      "source": [
        "* Graficamos y verificamos que tenemos la nube de puntos de los datos creados"
      ]
    },
    {
      "cell_type": "code",
      "metadata": {
        "id": "36VjNzfhitMP",
        "colab_type": "code",
        "colab": {}
      },
      "source": [
        "plt.scatter(data[:,0], data[:,1])"
      ],
      "execution_count": 0,
      "outputs": []
    },
    {
      "cell_type": "markdown",
      "metadata": {
        "id": "g6b3AcZBtFQr",
        "colab_type": "text"
      },
      "source": [
        "* Ahora vamos a centrar los datos en los puntos que nos permitan separarlos de una mejor manera\n",
        "  * Tomamos la mitad de nuestros datos, les restamos tres y los multiplicamos por una matriz de unos con la mitad de los datos y la dimension especificada al inicio\n",
        "  * Tomamos la mitad de nuestros datos, les sumamos tres y los multiplicamos por una matriz de unos con la mitad de los datos y la dimension especificada al inicio"
      ]
    },
    {
      "cell_type": "code",
      "metadata": {
        "id": "riFHex9LitJZ",
        "colab_type": "code",
        "colab": {}
      },
      "source": [
        "data[:h, :] = data[:h, :] - 3*np.ones((h, dimen))\n",
        "data[h:, :] = data[h:, :] + 3*np.ones((h, dimen))"
      ],
      "execution_count": 0,
      "outputs": []
    },
    {
      "cell_type": "markdown",
      "metadata": {
        "id": "xtCMcl_huxOQ",
        "colab_type": "text"
      },
      "source": [
        "* Podemos graficar nuevamente pero además agregandole colores para diferenciar de una mejor manera"
      ]
    },
    {
      "cell_type": "code",
      "metadata": {
        "id": "147gDDFUitGi",
        "colab_type": "code",
        "colab": {}
      },
      "source": [
        "colors = ['blue','red']\n",
        "\n",
        "color = np.array([colors[0]]*h+[colors[1]]*h).reshape(n)\n",
        "plt.scatter(data[:,0], data[:,1],c=color)"
      ],
      "execution_count": 0,
      "outputs": []
    },
    {
      "cell_type": "markdown",
      "metadata": {
        "id": "SBhbX2KmwK77",
        "colab_type": "text"
      },
      "source": [
        "* Una vez creada nuestra data vamos a crear el target perro a difrtrnvia de la anterior esta solo va a contener ceros y unos"
      ]
    },
    {
      "cell_type": "code",
      "metadata": {
        "id": "y5aQQMmuitD6",
        "colab_type": "code",
        "colab": {}
      },
      "source": [
        "target = np.array([0]*h+[1]*h).reshape(n, 1)"
      ],
      "execution_count": 0,
      "outputs": []
    },
    {
      "cell_type": "markdown",
      "metadata": {
        "id": "tlHdtPKww1KM",
        "colab_type": "text"
      },
      "source": [
        "* Ahora si podemos crear los tensores"
      ]
    },
    {
      "cell_type": "code",
      "metadata": {
        "id": "v177ul3pitBS",
        "colab_type": "code",
        "colab": {}
      },
      "source": [
        "x = torch.from_numpy(data).float().requires_grad_(True)\n",
        "y = torch.from_numpy(target).float()\n",
        "\n",
        "print(x.shape, y.shape)"
      ],
      "execution_count": 0,
      "outputs": []
    },
    {
      "cell_type": "markdown",
      "metadata": {
        "id": "oBkzSDGQyOf3",
        "colab_type": "text"
      },
      "source": [
        "* Con todo esto ya podemos entrenar el modelo:\n",
        "  * Vamos a usar el modelo lineal de Pytorch pero esta vez la dimension va a cambiar porque nuestros datos de entrada tienen otra dimension, ademas tenemos que especificar la funcion sigmoide, y esto lo vamos a unir con sequential\n",
        "  * Debemos modificar la funcion de pérdida ahora valos a usar BCE"
      ]
    },
    {
      "cell_type": "code",
      "metadata": {
        "id": "X-E4Iyg9is-n",
        "colab_type": "code",
        "colab": {}
      },
      "source": [
        "model = nn.Sequential(\n",
        "        nn.Linear(2,1),\n",
        "        nn.Sigmoid()\n",
        "        )\n",
        "loss_function = nn.BCELoss() \n",
        "optimizer = optim.SGD(model.parameters(), lr=0.01)\n",
        "\n",
        "losses = []\n",
        "iterations = 1000\n",
        "\n",
        "for i in range(iterations):\n",
        "  result = model(x)\n",
        "  loss = loss_function(result, y)\n",
        "  losses.append(loss.data)\n",
        "\n",
        "  optimizer.zero_grad()\n",
        "  loss.backward()\n",
        "  optimizer.step()\n",
        "\n",
        "plt.plot(range(iterations), losses)"
      ],
      "execution_count": 0,
      "outputs": []
    },
    {
      "cell_type": "markdown",
      "metadata": {
        "id": "LznqLfZ31J6J",
        "colab_type": "text"
      },
      "source": [
        "* Vamos a probar que tan buena fue la prediccion realizada"
      ]
    },
    {
      "cell_type": "code",
      "metadata": {
        "id": "onXbxoG2is5c",
        "colab_type": "code",
        "colab": {}
      },
      "source": [
        "blue = torch.Tensor([[-5,-6]])\n",
        "prediction = model(blue).data[0][0]>0.5\n",
        "print(colors[prediction])\n",
        "\n",
        "red = torch.Tensor([[5,6]])\n",
        "prediction = model(red).data[0][0]>0.5\n",
        "print(colors[prediction])"
      ],
      "execution_count": 0,
      "outputs": []
    },
    {
      "cell_type": "code",
      "metadata": {
        "id": "pxK95dNjirnV",
        "colab_type": "code",
        "colab": {}
      },
      "source": [
        ""
      ],
      "execution_count": 0,
      "outputs": []
    },
    {
      "cell_type": "code",
      "metadata": {
        "id": "sH7En8TcirlT",
        "colab_type": "code",
        "colab": {}
      },
      "source": [
        ""
      ],
      "execution_count": 0,
      "outputs": []
    },
    {
      "cell_type": "code",
      "metadata": {
        "id": "uYTOzBENiriZ",
        "colab_type": "code",
        "colab": {}
      },
      "source": [
        ""
      ],
      "execution_count": 0,
      "outputs": []
    },
    {
      "cell_type": "code",
      "metadata": {
        "id": "AJrCA2SnirfB",
        "colab_type": "code",
        "colab": {}
      },
      "source": [
        ""
      ],
      "execution_count": 0,
      "outputs": []
    },
    {
      "cell_type": "code",
      "metadata": {
        "id": "hARiz1LWircU",
        "colab_type": "code",
        "colab": {}
      },
      "source": [
        ""
      ],
      "execution_count": 0,
      "outputs": []
    },
    {
      "cell_type": "code",
      "metadata": {
        "id": "UlXl2VwhirZm",
        "colab_type": "code",
        "colab": {}
      },
      "source": [
        ""
      ],
      "execution_count": 0,
      "outputs": []
    },
    {
      "cell_type": "code",
      "metadata": {
        "id": "o-vJzMRPirXr",
        "colab_type": "code",
        "colab": {}
      },
      "source": [
        ""
      ],
      "execution_count": 0,
      "outputs": []
    },
    {
      "cell_type": "code",
      "metadata": {
        "id": "JsZrjHabirUT",
        "colab_type": "code",
        "colab": {}
      },
      "source": [
        ""
      ],
      "execution_count": 0,
      "outputs": []
    },
    {
      "cell_type": "code",
      "metadata": {
        "id": "gqH04RBVirR3",
        "colab_type": "code",
        "colab": {}
      },
      "source": [
        ""
      ],
      "execution_count": 0,
      "outputs": []
    },
    {
      "cell_type": "code",
      "metadata": {
        "id": "jUjciVt5irPW",
        "colab_type": "code",
        "colab": {}
      },
      "source": [
        ""
      ],
      "execution_count": 0,
      "outputs": []
    },
    {
      "cell_type": "code",
      "metadata": {
        "id": "43BEo_xzirNM",
        "colab_type": "code",
        "colab": {}
      },
      "source": [
        ""
      ],
      "execution_count": 0,
      "outputs": []
    },
    {
      "cell_type": "code",
      "metadata": {
        "id": "EwSrU42QirKX",
        "colab_type": "code",
        "colab": {}
      },
      "source": [
        ""
      ],
      "execution_count": 0,
      "outputs": []
    },
    {
      "cell_type": "code",
      "metadata": {
        "id": "9PRZQt5hirHg",
        "colab_type": "code",
        "colab": {}
      },
      "source": [
        ""
      ],
      "execution_count": 0,
      "outputs": []
    },
    {
      "cell_type": "code",
      "metadata": {
        "id": "63mRdgP1irEt",
        "colab_type": "code",
        "colab": {}
      },
      "source": [
        ""
      ],
      "execution_count": 0,
      "outputs": []
    }
  ]
}