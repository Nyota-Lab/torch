{
  "nbformat": 4,
  "nbformat_minor": 0,
  "metadata": {
    "colab": {
      "name": "Modelo de Clasificacion de Imágenes.ipynb",
      "provenance": [],
      "collapsed_sections": [],
      "authorship_tag": "ABX9TyN4tlslNItMa9nCABYS6vVq",
      "include_colab_link": true
    },
    "kernelspec": {
      "name": "python3",
      "display_name": "Python 3"
    },
    "widgets": {
      "application/vnd.jupyter.widget-state+json": {
        "4c263df854464e3ca0db967970d11d11": {
          "model_module": "@jupyter-widgets/controls",
          "model_name": "HBoxModel",
          "state": {
            "_view_name": "HBoxView",
            "_dom_classes": [],
            "_model_name": "HBoxModel",
            "_view_module": "@jupyter-widgets/controls",
            "_model_module_version": "1.5.0",
            "_view_count": null,
            "_view_module_version": "1.5.0",
            "box_style": "",
            "layout": "IPY_MODEL_d664b4a7337448e3842a2a7e248138c5",
            "_model_module": "@jupyter-widgets/controls",
            "children": [
              "IPY_MODEL_a16442c9ff8443b6a7a6ae18509b61b6",
              "IPY_MODEL_730a394193f44ca6941766aae30a13af"
            ]
          }
        },
        "d664b4a7337448e3842a2a7e248138c5": {
          "model_module": "@jupyter-widgets/base",
          "model_name": "LayoutModel",
          "state": {
            "_view_name": "LayoutView",
            "grid_template_rows": null,
            "right": null,
            "justify_content": null,
            "_view_module": "@jupyter-widgets/base",
            "overflow": null,
            "_model_module_version": "1.2.0",
            "_view_count": null,
            "flex_flow": null,
            "width": null,
            "min_width": null,
            "border": null,
            "align_items": null,
            "bottom": null,
            "_model_module": "@jupyter-widgets/base",
            "top": null,
            "grid_column": null,
            "overflow_y": null,
            "overflow_x": null,
            "grid_auto_flow": null,
            "grid_area": null,
            "grid_template_columns": null,
            "flex": null,
            "_model_name": "LayoutModel",
            "justify_items": null,
            "grid_row": null,
            "max_height": null,
            "align_content": null,
            "visibility": null,
            "align_self": null,
            "height": null,
            "min_height": null,
            "padding": null,
            "grid_auto_rows": null,
            "grid_gap": null,
            "max_width": null,
            "order": null,
            "_view_module_version": "1.2.0",
            "grid_template_areas": null,
            "object_position": null,
            "object_fit": null,
            "grid_auto_columns": null,
            "margin": null,
            "display": null,
            "left": null
          }
        },
        "a16442c9ff8443b6a7a6ae18509b61b6": {
          "model_module": "@jupyter-widgets/controls",
          "model_name": "IntProgressModel",
          "state": {
            "_view_name": "ProgressView",
            "style": "IPY_MODEL_eec577635bfe4e849a4a8d63887253bb",
            "_dom_classes": [],
            "description": "",
            "_model_name": "IntProgressModel",
            "bar_style": "success",
            "max": 1,
            "_view_module": "@jupyter-widgets/controls",
            "_model_module_version": "1.5.0",
            "value": 1,
            "_view_count": null,
            "_view_module_version": "1.5.0",
            "orientation": "horizontal",
            "min": 0,
            "description_tooltip": null,
            "_model_module": "@jupyter-widgets/controls",
            "layout": "IPY_MODEL_3f3061723f574364ad2c29c7023703bc"
          }
        },
        "730a394193f44ca6941766aae30a13af": {
          "model_module": "@jupyter-widgets/controls",
          "model_name": "HTMLModel",
          "state": {
            "_view_name": "HTMLView",
            "style": "IPY_MODEL_ebccdf20517a47499a46c3e1a1c91fec",
            "_dom_classes": [],
            "description": "",
            "_model_name": "HTMLModel",
            "placeholder": "​",
            "_view_module": "@jupyter-widgets/controls",
            "_model_module_version": "1.5.0",
            "value": " 170500096/? [00:07&lt;00:00, 21545482.61it/s]",
            "_view_count": null,
            "_view_module_version": "1.5.0",
            "description_tooltip": null,
            "_model_module": "@jupyter-widgets/controls",
            "layout": "IPY_MODEL_90bf5c7141f640169a6089c44478b9b5"
          }
        },
        "eec577635bfe4e849a4a8d63887253bb": {
          "model_module": "@jupyter-widgets/controls",
          "model_name": "ProgressStyleModel",
          "state": {
            "_view_name": "StyleView",
            "_model_name": "ProgressStyleModel",
            "description_width": "initial",
            "_view_module": "@jupyter-widgets/base",
            "_model_module_version": "1.5.0",
            "_view_count": null,
            "_view_module_version": "1.2.0",
            "bar_color": null,
            "_model_module": "@jupyter-widgets/controls"
          }
        },
        "3f3061723f574364ad2c29c7023703bc": {
          "model_module": "@jupyter-widgets/base",
          "model_name": "LayoutModel",
          "state": {
            "_view_name": "LayoutView",
            "grid_template_rows": null,
            "right": null,
            "justify_content": null,
            "_view_module": "@jupyter-widgets/base",
            "overflow": null,
            "_model_module_version": "1.2.0",
            "_view_count": null,
            "flex_flow": null,
            "width": null,
            "min_width": null,
            "border": null,
            "align_items": null,
            "bottom": null,
            "_model_module": "@jupyter-widgets/base",
            "top": null,
            "grid_column": null,
            "overflow_y": null,
            "overflow_x": null,
            "grid_auto_flow": null,
            "grid_area": null,
            "grid_template_columns": null,
            "flex": null,
            "_model_name": "LayoutModel",
            "justify_items": null,
            "grid_row": null,
            "max_height": null,
            "align_content": null,
            "visibility": null,
            "align_self": null,
            "height": null,
            "min_height": null,
            "padding": null,
            "grid_auto_rows": null,
            "grid_gap": null,
            "max_width": null,
            "order": null,
            "_view_module_version": "1.2.0",
            "grid_template_areas": null,
            "object_position": null,
            "object_fit": null,
            "grid_auto_columns": null,
            "margin": null,
            "display": null,
            "left": null
          }
        },
        "ebccdf20517a47499a46c3e1a1c91fec": {
          "model_module": "@jupyter-widgets/controls",
          "model_name": "DescriptionStyleModel",
          "state": {
            "_view_name": "StyleView",
            "_model_name": "DescriptionStyleModel",
            "description_width": "",
            "_view_module": "@jupyter-widgets/base",
            "_model_module_version": "1.5.0",
            "_view_count": null,
            "_view_module_version": "1.2.0",
            "_model_module": "@jupyter-widgets/controls"
          }
        },
        "90bf5c7141f640169a6089c44478b9b5": {
          "model_module": "@jupyter-widgets/base",
          "model_name": "LayoutModel",
          "state": {
            "_view_name": "LayoutView",
            "grid_template_rows": null,
            "right": null,
            "justify_content": null,
            "_view_module": "@jupyter-widgets/base",
            "overflow": null,
            "_model_module_version": "1.2.0",
            "_view_count": null,
            "flex_flow": null,
            "width": null,
            "min_width": null,
            "border": null,
            "align_items": null,
            "bottom": null,
            "_model_module": "@jupyter-widgets/base",
            "top": null,
            "grid_column": null,
            "overflow_y": null,
            "overflow_x": null,
            "grid_auto_flow": null,
            "grid_area": null,
            "grid_template_columns": null,
            "flex": null,
            "_model_name": "LayoutModel",
            "justify_items": null,
            "grid_row": null,
            "max_height": null,
            "align_content": null,
            "visibility": null,
            "align_self": null,
            "height": null,
            "min_height": null,
            "padding": null,
            "grid_auto_rows": null,
            "grid_gap": null,
            "max_width": null,
            "order": null,
            "_view_module_version": "1.2.0",
            "grid_template_areas": null,
            "object_position": null,
            "object_fit": null,
            "grid_auto_columns": null,
            "margin": null,
            "display": null,
            "left": null
          }
        }
      }
    }
  },
  "cells": [
    {
      "cell_type": "markdown",
      "metadata": {
        "id": "view-in-github",
        "colab_type": "text"
      },
      "source": [
        "<a href=\"https://colab.research.google.com/github/Nyota-Lab/torch/blob/Modelo-de-reconocimiento-de-imagenes/Modelo_de_Clasificacion_de_Im%C3%A1genes.ipynb\" target=\"_parent\"><img src=\"https://colab.research.google.com/assets/colab-badge.svg\" alt=\"Open In Colab\"/></a>"
      ]
    },
    {
      "cell_type": "markdown",
      "metadata": {
        "id": "U0ZIhT9hkpWK",
        "colab_type": "text"
      },
      "source": [
        "#Modelo de clasificacion de imagenes\n",
        "* Vamos a entrenar un modelo de clasificacion de imagenes usando el dataset normalizado"
      ]
    },
    {
      "cell_type": "code",
      "metadata": {
        "id": "7AXwBowIdfDZ",
        "colab_type": "code",
        "colab": {}
      },
      "source": [
        "import torch\n",
        "import torch.nn as nn\n",
        "import torch.optim as optim\n",
        "\n",
        "from torchvision import utils\n",
        "from torchvision import datasets\n",
        "from torchvision import transforms\n",
        "\n",
        "from PIL import Image\n",
        "import urllib.request as request\n",
        "import matplotlib.pyplot as plt"
      ],
      "execution_count": 0,
      "outputs": []
    },
    {
      "cell_type": "code",
      "metadata": {
        "id": "SnqRr2HPgCUA",
        "colab_type": "code",
        "outputId": "d9d9a011-4a5a-44d2-fd6a-bbb6fb4c0042",
        "colab": {
          "base_uri": "https://localhost:8080/",
          "height": 105,
          "referenced_widgets": [
            "4c263df854464e3ca0db967970d11d11",
            "d664b4a7337448e3842a2a7e248138c5",
            "a16442c9ff8443b6a7a6ae18509b61b6",
            "730a394193f44ca6941766aae30a13af",
            "eec577635bfe4e849a4a8d63887253bb",
            "3f3061723f574364ad2c29c7023703bc",
            "ebccdf20517a47499a46c3e1a1c91fec",
            "90bf5c7141f640169a6089c44478b9b5"
          ]
        }
      },
      "source": [
        "data_path = 'data/'\n",
        "full_data_set = datasets.CIFAR10(data_path, train=True,download=True, transform=transforms.Compose([\n",
        "                                                      transforms.ToTensor(),\n",
        "                                                      transforms.Normalize(\n",
        "                                                          mean=[0.4915, 0.4823, 0.4468],\n",
        "                                                          std=[0.2470, 0.2435, 0.2616]\n",
        "                                                      )]))\n",
        "full_validation_set = datasets.CIFAR10(data_path, train=False,download=True, transform=transforms.Compose([\n",
        "                                                      transforms.ToTensor(),\n",
        "                                                      transforms.Normalize(\n",
        "                                                          mean=[0.4915, 0.4823, 0.4468],\n",
        "                                                          std=[0.2470, 0.2435, 0.2616]\n",
        "                                                      )]))"
      ],
      "execution_count": 2,
      "outputs": [
        {
          "output_type": "stream",
          "text": [
            "Downloading https://www.cs.toronto.edu/~kriz/cifar-10-python.tar.gz to data/cifar-10-python.tar.gz\n"
          ],
          "name": "stdout"
        },
        {
          "output_type": "display_data",
          "data": {
            "application/vnd.jupyter.widget-view+json": {
              "model_id": "4c263df854464e3ca0db967970d11d11",
              "version_minor": 0,
              "version_major": 2
            },
            "text/plain": [
              "HBox(children=(IntProgress(value=1, bar_style='info', max=1), HTML(value='')))"
            ]
          },
          "metadata": {
            "tags": []
          }
        },
        {
          "output_type": "stream",
          "text": [
            "Extracting data/cifar-10-python.tar.gz to data/\n",
            "Files already downloaded and verified\n"
          ],
          "name": "stdout"
        }
      ]
    },
    {
      "cell_type": "markdown",
      "metadata": {
        "id": "wvVi5VfLjQrF",
        "colab_type": "text"
      },
      "source": [
        "* Vamos a generar un dataloader que nos va a permitir hacer batchs de imagenes de acuerdo a el tamaño que decidamos"
      ]
    },
    {
      "cell_type": "code",
      "metadata": {
        "id": "VuAtc8JZgCSH",
        "colab_type": "code",
        "colab": {}
      },
      "source": [
        "size = 4\n",
        "dataloader = torch.utils.data.DataLoader(full_data_set, batch_size=size, shuffle=True, num_workers=2)"
      ],
      "execution_count": 0,
      "outputs": []
    },
    {
      "cell_type": "markdown",
      "metadata": {
        "id": "XpJ76sSrlkCO",
        "colab_type": "text"
      },
      "source": [
        "* Una vez tenemos nuestra funcion dataloader vamos a aplicarla en nuestro dataset a través de un iterador"
      ]
    },
    {
      "cell_type": "code",
      "metadata": {
        "id": "cldcq7CjgCQF",
        "colab_type": "code",
        "outputId": "4814f0dd-fc54-441b-c50c-4bfd533e423f",
        "colab": {
          "base_uri": "https://localhost:8080/",
          "height": 250
        }
      },
      "source": [
        "data_iterator = iter(dataloader)\n",
        "imgs, labels = data_iterator.next()\n",
        "classes = ['airplane', 'automobile', 'bird', 'cat', 'deer', 'dog', 'frog', 'horse', 'ship', 'truck']\n",
        "plt.imshow(utils.make_grid(imgs).permute(1,2,0))\n",
        "for i in range(size):\n",
        "  print(classes[labels[i]])"
      ],
      "execution_count": 4,
      "outputs": [
        {
          "output_type": "stream",
          "text": [
            "Clipping input data to the valid range for imshow with RGB data ([0..1] for floats or [0..255] for integers).\n"
          ],
          "name": "stderr"
        },
        {
          "output_type": "stream",
          "text": [
            "automobile\n",
            "horse\n",
            "ship\n",
            "cat\n",
            "\n"
          ],
          "name": "stdout"
        },
        {
          "output_type": "display_data",
          "data": {
            "image/png": "[encoded data removed]",
            "text/plain": [
              "<Figure size 432x288 with 1 Axes>"
            ]
          },
          "metadata": {
            "tags": []
          }
        }
      ]
    },
    {
      "cell_type": "markdown",
      "metadata": {
        "id": "_XliWTVGrPAp",
        "colab_type": "text"
      },
      "source": [
        "* Al ser una clasificacion binaria vamos a tomar dos clases del dataset y solo nos vamos a quedar con los resultados que ingresen dentro de una de las clases reclasificando las etiquetas e instanciando dos nuevos sets de datos y entrenamiento que solo van a tener las imagenes con las clases seleccionanas"
      ]
    },
    {
      "cell_type": "code",
      "metadata": {
        "id": "QRYisULNgCOJ",
        "colab_type": "code",
        "colab": {}
      },
      "source": [
        "class_name = ['automobile', 'cat']\n",
        "label_map = {1:0, 3:1}\n",
        "\n",
        "data_set = [(img, label_map[label]) for img, label in full_data_set if label in [1,3]]\n",
        "validation_set = [(img, label_map[label])for img, label in full_validation_set if label in [1,3]]"
      ],
      "execution_count": 0,
      "outputs": []
    },
    {
      "cell_type": "code",
      "metadata": {
        "id": "GGMgJik4gCMF",
        "colab_type": "code",
        "outputId": "ba3e3bca-706e-495e-9b34-d07ba564bb4c",
        "colab": {
          "base_uri": "https://localhost:8080/",
          "height": 36
        }
      },
      "source": [
        "img, label = data_set[20]\n",
        "img.shape"
      ],
      "execution_count": 6,
      "outputs": [
        {
          "output_type": "execute_result",
          "data": {
            "text/plain": [
              "torch.Size([3, 32, 32])"
            ]
          },
          "metadata": {
            "tags": []
          },
          "execution_count": 6
        }
      ]
    },
    {
      "cell_type": "markdown",
      "metadata": {
        "id": "HJPbvRY7rqIJ",
        "colab_type": "text"
      },
      "source": [
        "* Una vez tenemos nuestros datasets vamos a entrenar nuestro modelo.\n",
        "  * Usamos un modelo lineal con valores de entrada de acuerdo al tamaño de nuestras imagenes y su dimension y nuestro valor de salida van a ser 512 'neuronas'\n",
        "  * Nuestra capa oculta va a utilizar como funcion de activacion Tanh\n",
        "  * De nuevo llamamos al modelo lineal pero esta vez nuestro valor de entrada van a ser las 512 'neuronas' y nuestro valor de salida va a ser 2 ya que nuestro modelo es binario\n",
        "  * Agregamos la funcion Softmax debido a que queremos que nuestro resultado sea una probabilidad"
      ]
    },
    {
      "cell_type": "code",
      "metadata": {
        "id": "XIowSeMJgCIY",
        "colab_type": "code",
        "colab": {}
      },
      "source": [
        "model = nn.Sequential(\n",
        "          nn.Linear(3*32*32,512),\n",
        "          nn.Tanh(),\n",
        "          nn.Linear(512,2),\n",
        "          nn.Softmax(dim=1)\n",
        ")"
      ],
      "execution_count": 0,
      "outputs": []
    },
    {
      "cell_type": "code",
      "metadata": {
        "id": "IEiSyXEJgCB_",
        "colab_type": "code",
        "outputId": "3d4a7233-3b01-44b9-a140-52b2e290629c",
        "colab": {
          "base_uri": "https://localhost:8080/",
          "height": 303
        }
      },
      "source": [
        "img, label = data_set[20]\n",
        "plt.imshow(img.permute(1,2,0))\n",
        "class_name[label]"
      ],
      "execution_count": 8,
      "outputs": [
        {
          "output_type": "stream",
          "text": [
            "Clipping input data to the valid range for imshow with RGB data ([0..1] for floats or [0..255] for integers).\n"
          ],
          "name": "stderr"
        },
        {
          "output_type": "execute_result",
          "data": {
            "text/plain": [
              "'automobile'"
            ]
          },
          "metadata": {
            "tags": []
          },
          "execution_count": 8
        },
        {
          "output_type": "display_data",
          "data": {
            "image/png": "[encoded data removed]",
            "text/plain": [
              "<Figure size 432x288 with 1 Axes>"
            ]
          },
          "metadata": {
            "tags": []
          }
        }
      ]
    },
    {
      "cell_type": "code",
      "metadata": {
        "id": "IMbz-aRrgB9z",
        "colab_type": "code",
        "outputId": "cc089b91-d331-4b9d-b1bb-80d9db6de0fa",
        "colab": {
          "base_uri": "https://localhost:8080/",
          "height": 36
        }
      },
      "source": [
        "out = model(img.view(-1).unsqueeze(0))\n",
        "out"
      ],
      "execution_count": 9,
      "outputs": [
        {
          "output_type": "execute_result",
          "data": {
            "text/plain": [
              "tensor([[0.3978, 0.6022]], grad_fn=<SoftmaxBackward>)"
            ]
          },
          "metadata": {
            "tags": []
          },
          "execution_count": 9
        }
      ]
    },
    {
      "cell_type": "code",
      "metadata": {
        "id": "vNg0Nx-wgB6G",
        "colab_type": "code",
        "outputId": "35d772f0-76ac-4034-e516-3b65b3b8ac29",
        "colab": {
          "base_uri": "https://localhost:8080/",
          "height": 36
        }
      },
      "source": [
        "_, index = torch.max(out, dim=1)\n",
        "print( class_name[label], '->', 'model:', class_name[index])"
      ],
      "execution_count": 10,
      "outputs": [
        {
          "output_type": "stream",
          "text": [
            "automobile -> model: cat\n"
          ],
          "name": "stdout"
        }
      ]
    },
    {
      "cell_type": "markdown",
      "metadata": {
        "id": "Xl3Ko2cuK1GI",
        "colab_type": "text"
      },
      "source": [
        "* Ya tenemos entrenado el modelo pero podemos mejorar su rendimiento, para esto vamos a usar logaritmos en nuestra funcion softmax\n",
        "* Ademas debemos implementar la funcion de pérdida con logaritmos"
      ]
    },
    {
      "cell_type": "code",
      "metadata": {
        "id": "0448aADSgB3n",
        "colab_type": "code",
        "colab": {}
      },
      "source": [
        "model = nn.Sequential(\n",
        "          nn.Linear(3*32*32,512),\n",
        "          nn.Tanh(),\n",
        "          nn.Linear(512,2),\n",
        "          nn.LogSoftmax(dim=1)\n",
        ")\n",
        "loss_function = nn.NLLLoss"
      ],
      "execution_count": 0,
      "outputs": []
    },
    {
      "cell_type": "code",
      "metadata": {
        "id": "H4u6tIexgB0c",
        "colab_type": "code",
        "outputId": "c9091f00-3ddd-4984-c79e-51269e5aa997",
        "colab": {
          "base_uri": "https://localhost:8080/",
          "height": 303
        }
      },
      "source": [
        "img, label = data_set[30]\n",
        "plt.imshow(img.permute(1,2,0))\n",
        "class_name[label]"
      ],
      "execution_count": 12,
      "outputs": [
        {
          "output_type": "stream",
          "text": [
            "Clipping input data to the valid range for imshow with RGB data ([0..1] for floats or [0..255] for integers).\n"
          ],
          "name": "stderr"
        },
        {
          "output_type": "execute_result",
          "data": {
            "text/plain": [
              "'automobile'"
            ]
          },
          "metadata": {
            "tags": []
          },
          "execution_count": 12
        },
        {
          "output_type": "display_data",
          "data": {
            "image/png": "[encoded data removed]",
            "text/plain": [
              "<Figure size 432x288 with 1 Axes>"
            ]
          },
          "metadata": {
            "tags": []
          }
        }
      ]
    },
    {
      "cell_type": "code",
      "metadata": {
        "id": "b6mZESKIgByf",
        "colab_type": "code",
        "outputId": "f2ade191-c3b7-4cdc-8b9d-34d1c11081c2",
        "colab": {
          "base_uri": "https://localhost:8080/",
          "height": 36
        }
      },
      "source": [
        "out = model(img.view(-1).unsqueeze(0))\n",
        "print(out)"
      ],
      "execution_count": 13,
      "outputs": [
        {
          "output_type": "stream",
          "text": [
            "tensor([[-0.6306, -0.7598]], grad_fn=<LogSoftmaxBackward>)\n"
          ],
          "name": "stdout"
        }
      ]
    },
    {
      "cell_type": "code",
      "metadata": {
        "id": "Gp6OzhOigBtP",
        "colab_type": "code",
        "outputId": "25248cd5-76d1-4829-8519-fc32ca4b0138",
        "colab": {
          "base_uri": "https://localhost:8080/",
          "height": 111
        }
      },
      "source": [
        "model = nn.Sequential(\n",
        "          nn.Linear(3*32*32,512),\n",
        "          nn.Tanh(),\n",
        "          nn.Linear(512,2),\n",
        "          nn.LogSoftmax(dim=1)\n",
        ")\n",
        "loss_function = nn.NLLLoss()\n",
        "optimizer = optim.SGD(model.parameters(),lr=0.01)\n",
        "n_epochs = 5\n",
        "\n",
        "for epoch in range(n_epochs):\n",
        "  for img, label in data_set:\n",
        "    out = model(img.view(-1).unsqueeze(0))\n",
        "    loss = loss_function(out, torch.tensor([label]))\n",
        "\n",
        "    optimizer.zero_grad()\n",
        "    loss.backward()\n",
        "    optimizer.step()\n",
        "\n",
        "  print(\"Epoch: %d, Loss: %f\"%(epoch,float(loss)))\n",
        "\n"
      ],
      "execution_count": 14,
      "outputs": [
        {
          "output_type": "stream",
          "text": [
            "Epoch: 0, Loss: 0.007577\n",
            "Epoch: 1, Loss: 0.036536\n",
            "Epoch: 2, Loss: 0.229258\n",
            "Epoch: 3, Loss: 0.010562\n",
            "Epoch: 4, Loss: 1.018780\n"
          ],
          "name": "stdout"
        }
      ]
    },
    {
      "cell_type": "code",
      "metadata": {
        "id": "7nESGgC5gBrh",
        "colab_type": "code",
        "outputId": "4c6a5a24-92ba-47a9-f0ec-970f75eb9670",
        "colab": {
          "base_uri": "https://localhost:8080/",
          "height": 1000
        }
      },
      "source": [
        "train_loader = torch.utils.data.DataLoader(data_set, batch_size=64, shuffle=True)\n",
        "model = nn.Sequential(\n",
        "          nn.Linear(3*32*32,512),\n",
        "          nn.Tanh(),\n",
        "          nn.Linear(512,2),\n",
        "          nn.LogSoftmax(dim=1)\n",
        ")\n",
        "loss_function = nn.NLLLoss()\n",
        "optimizer = optim.SGD(model.parameters(),lr=0.01)\n",
        "n_epochs = 100\n",
        "\n",
        "for epoch in range(n_epochs):\n",
        "  for img, label in train_loader:\n",
        "    out = model(img.view(img.shape[0],-1))\n",
        "    loss = loss_function(out, label)\n",
        "\n",
        "    optimizer.zero_grad()\n",
        "    loss.backward()\n",
        "    optimizer.step()\n",
        "\n",
        "  print(\"Epoch: %d, Loss: %f\"%(epoch,float(loss)))"
      ],
      "execution_count": 15,
      "outputs": [
        {
          "output_type": "stream",
          "text": [
            "Epoch: 0, Loss: 0.449687\n",
            "Epoch: 1, Loss: 0.295920\n",
            "Epoch: 2, Loss: 0.274660\n",
            "Epoch: 3, Loss: 0.584904\n",
            "Epoch: 4, Loss: 0.509921\n",
            "Epoch: 5, Loss: 0.355480\n",
            "Epoch: 6, Loss: 0.361159\n",
            "Epoch: 7, Loss: 0.277505\n",
            "Epoch: 8, Loss: 0.141631\n",
            "Epoch: 9, Loss: 0.410805\n",
            "Epoch: 10, Loss: 0.357529\n",
            "Epoch: 11, Loss: 0.604442\n",
            "Epoch: 12, Loss: 0.130235\n",
            "Epoch: 13, Loss: 0.177544\n",
            "Epoch: 14, Loss: 0.126300\n",
            "Epoch: 15, Loss: 0.504082\n",
            "Epoch: 16, Loss: 0.179521\n",
            "Epoch: 17, Loss: 0.322678\n",
            "Epoch: 18, Loss: 0.255457\n",
            "Epoch: 19, Loss: 0.210194\n",
            "Epoch: 20, Loss: 0.198088\n",
            "Epoch: 21, Loss: 0.124501\n",
            "Epoch: 22, Loss: 0.100995\n",
            "Epoch: 23, Loss: 0.147952\n",
            "Epoch: 24, Loss: 0.081504\n",
            "Epoch: 25, Loss: 0.059154\n",
            "Epoch: 26, Loss: 0.393121\n",
            "Epoch: 27, Loss: 0.097583\n",
            "Epoch: 28, Loss: 0.047858\n",
            "Epoch: 29, Loss: 0.139917\n",
            "Epoch: 30, Loss: 0.060576\n",
            "Epoch: 31, Loss: 0.072592\n",
            "Epoch: 32, Loss: 0.132808\n",
            "Epoch: 33, Loss: 0.038458\n",
            "Epoch: 34, Loss: 0.065413\n",
            "Epoch: 35, Loss: 0.086314\n",
            "Epoch: 36, Loss: 0.325909\n",
            "Epoch: 37, Loss: 0.032083\n",
            "Epoch: 38, Loss: 0.055778\n",
            "Epoch: 39, Loss: 0.028785\n",
            "Epoch: 40, Loss: 0.038597\n",
            "Epoch: 41, Loss: 0.039651\n",
            "Epoch: 42, Loss: 0.019035\n",
            "Epoch: 43, Loss: 0.037640\n",
            "Epoch: 44, Loss: 0.033264\n",
            "Epoch: 45, Loss: 0.042679\n",
            "Epoch: 46, Loss: 0.020097\n",
            "Epoch: 47, Loss: 0.020090\n",
            "Epoch: 48, Loss: 0.035877\n",
            "Epoch: 49, Loss: 0.029597\n",
            "Epoch: 50, Loss: 0.021064\n",
            "Epoch: 51, Loss: 0.026260\n",
            "Epoch: 52, Loss: 0.028410\n",
            "Epoch: 53, Loss: 0.029587\n",
            "Epoch: 54, Loss: 0.020073\n",
            "Epoch: 55, Loss: 0.016034\n",
            "Epoch: 56, Loss: 0.018847\n",
            "Epoch: 57, Loss: 0.030436\n",
            "Epoch: 58, Loss: 0.036718\n",
            "Epoch: 59, Loss: 0.002332\n",
            "Epoch: 60, Loss: 0.048547\n",
            "Epoch: 61, Loss: 0.014738\n",
            "Epoch: 62, Loss: 0.005165\n",
            "Epoch: 63, Loss: 0.011169\n",
            "Epoch: 64, Loss: 0.008835\n",
            "Epoch: 65, Loss: 0.010126\n",
            "Epoch: 66, Loss: 0.011377\n",
            "Epoch: 67, Loss: 0.006847\n",
            "Epoch: 68, Loss: 0.013697\n",
            "Epoch: 69, Loss: 0.011255\n",
            "Epoch: 70, Loss: 0.006087\n",
            "Epoch: 71, Loss: 0.043487\n",
            "Epoch: 72, Loss: 0.024701\n",
            "Epoch: 73, Loss: 0.014081\n",
            "Epoch: 74, Loss: 0.006553\n",
            "Epoch: 75, Loss: 0.013275\n",
            "Epoch: 76, Loss: 0.005551\n",
            "Epoch: 77, Loss: 0.013968\n",
            "Epoch: 78, Loss: 0.012602\n",
            "Epoch: 79, Loss: 0.012166\n",
            "Epoch: 80, Loss: 0.010212\n",
            "Epoch: 81, Loss: 0.011501\n",
            "Epoch: 82, Loss: 0.014413\n",
            "Epoch: 83, Loss: 0.006040\n",
            "Epoch: 84, Loss: 0.015562\n",
            "Epoch: 85, Loss: 0.012868\n",
            "Epoch: 86, Loss: 0.003666\n",
            "Epoch: 87, Loss: 0.008081\n",
            "Epoch: 88, Loss: 0.009998\n",
            "Epoch: 89, Loss: 0.004721\n",
            "Epoch: 90, Loss: 0.003715\n",
            "Epoch: 91, Loss: 0.003734\n",
            "Epoch: 92, Loss: 0.011551\n",
            "Epoch: 93, Loss: 0.004067\n",
            "Epoch: 94, Loss: 0.009153\n",
            "Epoch: 95, Loss: 0.004386\n",
            "Epoch: 96, Loss: 0.004821\n",
            "Epoch: 97, Loss: 0.005540\n",
            "Epoch: 98, Loss: 0.007165\n",
            "Epoch: 99, Loss: 0.010376\n"
          ],
          "name": "stdout"
        }
      ]
    },
    {
      "cell_type": "code",
      "metadata": {
        "id": "FyjQkd5sgBpc",
        "colab_type": "code",
        "outputId": "893f1d70-f466-4cd9-880e-9d47c22cd4a8",
        "colab": {
          "base_uri": "https://localhost:8080/",
          "height": 36
        }
      },
      "source": [
        "validation_loader = torch.utils.data.DataLoader(validation_set, batch_size=64, shuffle=True)\n",
        "\n",
        "correct = 0\n",
        "total = 0\n",
        "\n",
        "with torch.no_grad():\n",
        "  for img, labels in validation_loader:\n",
        "    outputs = model(img.view(img.shape[0],-1))\n",
        "    _, predicted = torch.max(outputs, dim = 1)\n",
        "    total += labels.shape[0]\n",
        "    correct += int((predicted == labels).sum())\n",
        "  \n",
        "  print(\"Accuracy: %f\"%(correct/total))"
      ],
      "execution_count": 16,
      "outputs": [
        {
          "output_type": "stream",
          "text": [
            "Accuracy: 0.863000\n"
          ],
          "name": "stdout"
        }
      ]
    },
    {
      "cell_type": "code",
      "metadata": {
        "id": "t3Z2iYXqgBmm",
        "colab_type": "code",
        "outputId": "f44b2433-0212-4079-9128-2cba5d19d6c3",
        "colab": {
          "base_uri": "https://localhost:8080/",
          "height": 36
        }
      },
      "source": [
        "img, label = validation_set[56]\n",
        "out = model(img.view(-1).unsqueeze(0))\n",
        "_, index = torch.max(out,dim=1)\n",
        "out"
      ],
      "execution_count": 17,
      "outputs": [
        {
          "output_type": "execute_result",
          "data": {
            "text/plain": [
              "tensor([[-6.0277e+00, -2.4139e-03]], grad_fn=<LogSoftmaxBackward>)"
            ]
          },
          "metadata": {
            "tags": []
          },
          "execution_count": 17
        }
      ]
    },
    {
      "cell_type": "code",
      "metadata": {
        "id": "bPI_0j-5gBhP",
        "colab_type": "code",
        "outputId": "74ffa161-26ab-43de-c46c-1c24971a4434",
        "colab": {
          "base_uri": "https://localhost:8080/",
          "height": 303
        }
      },
      "source": [
        "print('->',class_name[label],' model:',class_name[index])\n",
        "plt.imshow(img.permute(1, 2, 0))\n",
        "plt.show()"
      ],
      "execution_count": 18,
      "outputs": [
        {
          "output_type": "stream",
          "text": [
            "Clipping input data to the valid range for imshow with RGB data ([0..1] for floats or [0..255] for integers).\n"
          ],
          "name": "stderr"
        },
        {
          "output_type": "stream",
          "text": [
            "-> cat  model: cat\n"
          ],
          "name": "stdout"
        },
        {
          "output_type": "display_data",
          "data": {
            "image/png": "[encoded data removed]",
            "text/plain": [
              "<Figure size 432x288 with 1 Axes>"
            ]
          },
          "metadata": {
            "tags": []
          }
        }
      ]
    },
    {
      "cell_type": "markdown",
      "metadata": {
        "id": "ypvr7XkQID47",
        "colab_type": "text"
      },
      "source": [
        "#Mejoras a nuestro modelo\n",
        "\n",
        "---\n",
        "\n",
        "* Podemos implementar algunas mejoras que afectarán el rendimiento de nuestro modelo:\n",
        " * Primero simplificando algunas operaciones básicas\n",
        " * Adicionalmente vamos a aprovechar el efecto combinado de LogSoftmax y NLLLoss y lo reemplazamos por CrossEntropyLoss\n",
        " * Además podemos darle mas pasos la secuencia del modelo lineal para mejorar el rendimiento del modelo\n",
        "\n"
      ]
    },
    {
      "cell_type": "code",
      "metadata": {
        "id": "1JbFGG6TgBdw",
        "colab_type": "code",
        "colab": {
          "base_uri": "https://localhost:8080/",
          "height": 1000
        },
        "outputId": "be7980dd-b484-48f3-8fe4-4fdcb3295a9d"
      },
      "source": [
        "train_loader = torch.utils.data.DataLoader(data_set, batch_size=64, shuffle=True)\n",
        "model = nn.Sequential(\n",
        "          nn.Linear(3072,1028),\n",
        "          nn.Tanh(),\n",
        "          nn.Linear(1028,512),\n",
        "          nn.Tanh(),\n",
        "          nn.Linear(512,256),\n",
        "          nn.Tanh(),\n",
        "          nn.Linear(256,128),\n",
        "          nn.Tanh(),\n",
        "          nn.Linear(128,64),\n",
        "          nn.Tanh(),\n",
        "          nn.Linear(64,2),\n",
        ")\n",
        "loss_function = nn.CrossEntropyLoss()\n",
        "optimizer = optim.SGD(model.parameters(),lr=0.01)\n",
        "n_epochs = 100\n",
        "\n",
        "for epoch in range(n_epochs):\n",
        "  for img, label in train_loader:\n",
        "    out = model(img.view(img.shape[0],-1))\n",
        "    loss = loss_function(out, label)\n",
        "\n",
        "    optimizer.zero_grad()\n",
        "    loss.backward()\n",
        "    optimizer.step()\n",
        "\n",
        "  print(\"Epoch: %d, Loss: %f\"%(epoch,float(loss)))"
      ],
      "execution_count": 19,
      "outputs": [
        {
          "output_type": "stream",
          "text": [
            "Epoch: 0, Loss: 0.500906\n",
            "Epoch: 1, Loss: 0.443321\n",
            "Epoch: 2, Loss: 0.452264\n",
            "Epoch: 3, Loss: 0.352109\n",
            "Epoch: 4, Loss: 0.575584\n",
            "Epoch: 5, Loss: 0.277065\n",
            "Epoch: 6, Loss: 0.362849\n",
            "Epoch: 7, Loss: 0.192154\n",
            "Epoch: 8, Loss: 0.627932\n",
            "Epoch: 9, Loss: 0.261400\n",
            "Epoch: 10, Loss: 0.216490\n",
            "Epoch: 11, Loss: 0.154983\n",
            "Epoch: 12, Loss: 0.490195\n",
            "Epoch: 13, Loss: 0.280645\n",
            "Epoch: 14, Loss: 0.267825\n",
            "Epoch: 15, Loss: 0.154710\n",
            "Epoch: 16, Loss: 0.438415\n",
            "Epoch: 17, Loss: 0.353210\n",
            "Epoch: 18, Loss: 0.132236\n",
            "Epoch: 19, Loss: 0.054343\n",
            "Epoch: 20, Loss: 0.239912\n",
            "Epoch: 21, Loss: 0.124111\n",
            "Epoch: 22, Loss: 0.165685\n",
            "Epoch: 23, Loss: 0.036615\n",
            "Epoch: 24, Loss: 0.047263\n",
            "Epoch: 25, Loss: 0.134621\n",
            "Epoch: 26, Loss: 0.093397\n",
            "Epoch: 27, Loss: 0.363467\n",
            "Epoch: 28, Loss: 0.039765\n",
            "Epoch: 29, Loss: 0.019826\n",
            "Epoch: 30, Loss: 0.009966\n",
            "Epoch: 31, Loss: 0.062559\n",
            "Epoch: 32, Loss: 0.006142\n",
            "Epoch: 33, Loss: 0.014723\n",
            "Epoch: 34, Loss: 0.032649\n",
            "Epoch: 35, Loss: 0.324262\n",
            "Epoch: 36, Loss: 0.008184\n",
            "Epoch: 37, Loss: 0.004020\n",
            "Epoch: 38, Loss: 0.011463\n",
            "Epoch: 39, Loss: 0.000591\n",
            "Epoch: 40, Loss: 0.084758\n",
            "Epoch: 41, Loss: 0.005596\n",
            "Epoch: 42, Loss: 0.005322\n",
            "Epoch: 43, Loss: 0.004931\n",
            "Epoch: 44, Loss: 0.004334\n",
            "Epoch: 45, Loss: 0.001526\n",
            "Epoch: 46, Loss: 0.003247\n",
            "Epoch: 47, Loss: 0.004132\n",
            "Epoch: 48, Loss: 0.002059\n",
            "Epoch: 49, Loss: 0.001331\n",
            "Epoch: 50, Loss: 0.000993\n",
            "Epoch: 51, Loss: 0.001415\n",
            "Epoch: 52, Loss: 0.000180\n",
            "Epoch: 53, Loss: 0.001330\n",
            "Epoch: 54, Loss: 0.000487\n",
            "Epoch: 55, Loss: 0.000755\n",
            "Epoch: 56, Loss: 0.000449\n",
            "Epoch: 57, Loss: 0.000470\n",
            "Epoch: 58, Loss: 0.000322\n",
            "Epoch: 59, Loss: 0.000526\n",
            "Epoch: 60, Loss: 0.000247\n",
            "Epoch: 61, Loss: 0.000871\n",
            "Epoch: 62, Loss: 0.000429\n",
            "Epoch: 63, Loss: 0.000520\n",
            "Epoch: 64, Loss: 0.000774\n",
            "Epoch: 65, Loss: 0.001447\n",
            "Epoch: 66, Loss: 0.000421\n",
            "Epoch: 67, Loss: 0.000041\n",
            "Epoch: 68, Loss: 0.000975\n",
            "Epoch: 69, Loss: 0.000166\n",
            "Epoch: 70, Loss: 0.000401\n",
            "Epoch: 71, Loss: 0.000292\n",
            "Epoch: 72, Loss: 0.000283\n",
            "Epoch: 73, Loss: 0.000246\n",
            "Epoch: 74, Loss: 0.000427\n",
            "Epoch: 75, Loss: 0.000380\n",
            "Epoch: 76, Loss: 0.000240\n",
            "Epoch: 77, Loss: 0.000337\n",
            "Epoch: 78, Loss: 0.000260\n",
            "Epoch: 79, Loss: 0.000322\n",
            "Epoch: 80, Loss: 0.000307\n",
            "Epoch: 81, Loss: 0.000172\n",
            "Epoch: 82, Loss: 0.000236\n",
            "Epoch: 83, Loss: 0.000342\n",
            "Epoch: 84, Loss: 0.000214\n",
            "Epoch: 85, Loss: 0.000312\n",
            "Epoch: 86, Loss: 0.000278\n",
            "Epoch: 87, Loss: 0.000399\n",
            "Epoch: 88, Loss: 0.000210\n",
            "Epoch: 89, Loss: 0.000084\n",
            "Epoch: 90, Loss: 0.000344\n",
            "Epoch: 91, Loss: 0.000258\n",
            "Epoch: 92, Loss: 0.000263\n",
            "Epoch: 93, Loss: 0.000138\n",
            "Epoch: 94, Loss: 0.000323\n",
            "Epoch: 95, Loss: 0.000175\n",
            "Epoch: 96, Loss: 0.000370\n",
            "Epoch: 97, Loss: 0.000202\n",
            "Epoch: 98, Loss: 0.000199\n",
            "Epoch: 99, Loss: 0.000336\n"
          ],
          "name": "stdout"
        }
      ]
    },
    {
      "cell_type": "markdown",
      "metadata": {
        "id": "doKAGGF7U4gO",
        "colab_type": "text"
      },
      "source": [
        "* Además podemos verificar nuestro modelo con el set de entrenamiento\n",
        "  * Este resultado nos indica que nuestro modelo tiene Overfitting"
      ]
    },
    {
      "cell_type": "code",
      "metadata": {
        "id": "SQsVSR7LgBbZ",
        "colab_type": "code",
        "colab": {
          "base_uri": "https://localhost:8080/",
          "height": 36
        },
        "outputId": "53ee80c0-66a2-4c32-b5e2-8df33a1db457"
      },
      "source": [
        "train_loader = torch.utils.data.DataLoader(data_set, batch_size=64, shuffle=True)\n",
        "\n",
        "correct = 0\n",
        "total = 0\n",
        "\n",
        "with torch.no_grad():\n",
        "  for img, labels in train_loader:\n",
        "    outputs = model(img.view(img.shape[0],-1))\n",
        "    _, predicted = torch.max(outputs, dim = 1)\n",
        "    total += labels.shape[0]\n",
        "    correct += int((predicted == labels).sum())\n",
        "  \n",
        "  print(\"Accuracy: %f\"%(correct/total))"
      ],
      "execution_count": 20,
      "outputs": [
        {
          "output_type": "stream",
          "text": [
            "Accuracy: 1.000000\n"
          ],
          "name": "stdout"
        }
      ]
    },
    {
      "cell_type": "markdown",
      "metadata": {
        "id": "g1gbqFAiW2vs",
        "colab_type": "text"
      },
      "source": [
        "* En este caso por ejemplo nuestro modelo a pesar de ofrecer un buen rendimiento todavía puede llegar a tener errores de clasificación en problemas complejos"
      ]
    },
    {
      "cell_type": "code",
      "metadata": {
        "id": "jwb8obWRgBZH",
        "colab_type": "code",
        "colab": {
          "base_uri": "https://localhost:8080/",
          "height": 322
        },
        "outputId": "3802c18b-2c79-48c4-c56f-1b724934e3e5"
      },
      "source": [
        "url = 'https://encrypted-tbn0.gstatic.com/images?q=tbn:ANd9GcQEca82WYG_KgO83MP9RYbVODb2Jgk4mFk1dEZtux1K14Ba4mF9&s'\n",
        "image = request.urlretrieve(url, 'test1.jpg')\n",
        "img = Image.open(image[0])\n",
        "\n",
        "preprocess = transforms.Compose([\n",
        "             transforms.Resize(48),\n",
        "             transforms.CenterCrop(32),\n",
        "             transforms.ToTensor(),\n",
        "             transforms.Normalize(\n",
        "                 mean=[0.4915, 0.4823, 0.4468],\n",
        "                 std=[0.2470, 0.2435, 0.2616]\n",
        "             )\n",
        "])\n",
        "\n",
        "img_t = preprocess(img)\n",
        "out = model(img_t.view(-1).unsqueeze(0))\n",
        "_, index = torch.max(out,dim=1)\n",
        "print('Correct car: ',' model:',class_name[index])\n",
        "plt.imshow(img_t.permute(1,2,0))"
      ],
      "execution_count": 22,
      "outputs": [
        {
          "output_type": "stream",
          "text": [
            "Clipping input data to the valid range for imshow with RGB data ([0..1] for floats or [0..255] for integers).\n"
          ],
          "name": "stderr"
        },
        {
          "output_type": "stream",
          "text": [
            "Correct car:   model: cat\n"
          ],
          "name": "stdout"
        },
        {
          "output_type": "execute_result",
          "data": {
            "text/plain": [
              "<matplotlib.image.AxesImage at 0x7ff6de6f1ef0>"
            ]
          },
          "metadata": {
            "tags": []
          },
          "execution_count": 22
        },
        {
          "output_type": "display_data",
          "data": {
            "image/png": "[encoded data removed]",
            "text/plain": [
              "<Figure size 432x288 with 1 Axes>"
            ]
          },
          "metadata": {
            "tags": []
          }
        }
      ]
    }
  ]
}